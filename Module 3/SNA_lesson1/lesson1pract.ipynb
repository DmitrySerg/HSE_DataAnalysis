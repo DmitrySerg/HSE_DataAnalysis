{
 "cells": [
  {
   "cell_type": "markdown",
   "metadata": {},
   "source": [
    "# Программа «Практический анализ данных и машинное обучение»\n",
    "## Анализ социальных сетей: Введение в теорию графов и SNA\n",
    "\n",
    "Преподаватели: Шестаков Андрей, Докукина София"
   ]
  },
  {
   "cell_type": "markdown",
   "metadata": {},
   "source": [
    "На первой части занятия мы видели примеры сетевых структур, представленных в различных контекстах: транспорт, социальные сети, научные сообщества, информационные технологии и тп. \n",
    "\n",
    "Теперь перейдем к формальной и технической стороне вопроса: \n",
    "* Что из себя представляет сеть на математическом языке?\n",
    "* Какие бывают сети и какими свойствами они могут обладать?\n",
    "* Как её можно задать в памяти компьютера?\n",
    "* Какими инстументами можно пользоваться для анализа сетевых структур?"
   ]
  },
  {
   "cell_type": "markdown",
   "metadata": {},
   "source": [
    "# Графы"
   ]
  },
  {
   "cell_type": "markdown",
   "metadata": {},
   "source": [
    "**Граф** - математическая модель представления сетевых структур. Впедь в курсе слова  *сеть* и *граф* будут обозначать одно и тоже.\n",
    "\n",
    "Графом $\\mathcal{G}$ называется пара множеств $\\mathcal{G} = (V, E)$, где $V$ содержит в себе множество *вершин (узлов, vertices, nodes)*, а $E$ содержит множество *ребер (связей, edjes, links)*. <br/> \n",
    "Величины $n = |V|$ и $m = |E|$ называют *порядком (order of graph)* и *размером (size of graph)* графа. <br/> \n"
   ]
  },
  {
   "cell_type": "markdown",
   "metadata": {},
   "source": [
    "**Ребра, ориентированность, соседи**\n",
    "* Ребро между вершинами $(v_i, v_j)$ обозначают $e_{ij}$. В нериентированном графе $e_{ij} = e_{ji}$ $\\forall i,j$. <br/>\n",
    "* В ориенированном графе ребро $e_{ij} = (v_i, v_j)$ показывает направление связи от $v_i$ к $v_j$.  <br/>\n",
    "* Иногда ребрам в графе ставится в соответствие некоторое числовое значение $w_{ij} \\in \\mathbb{R}$, которое выражает силу связи между вершинами. Эти значения называют весами ребер, а графы с весами называют взвешенными. <br/>\n",
    "* Вершины $v_i$ и $v_j$ называют соседями если ребро $(v_i, v_j) \\in E$. Множество смежных с $v_i$ вершин образуют множество соседей $N(v_i)$. Степень вершины - количество соседей $k_i = |N(v_i)|$<br/>\n",
    "\n",
    "**Расстояние на графах**\n",
    "* Маршрутом из вершины $v$ в вершину $u$ называется конечная последовательность $(v, v_1), (v_1, v_2), \\dots , (v_k, u)$. Если в последовательности нет повторяющихся ребер, то это путь (цепь).\n",
    "* Если между $v$ и $u$ существует путь то эти вершины называются связанными. Граф называется связным, если для любой пары вершин найдется путь, иначе граф является несвязным.\n",
    "* Длинной пути называется число ребер, из которых он состоит, а расстоянием называется длина кратчайшего пути между ними. Диаметр графа равен максимальному расстоянию в нем.\n",
    "\n",
    "**Подграфы**\n",
    "* Подграфом $\\mathcal{G'}$ называется граф, содержащий некоторое подмножество вершин исходного графа $V' \\subseteq V$ и инцидентные им ребра $E'$"
   ]
  },
  {
   "cell_type": "markdown",
   "metadata": {},
   "source": [
    "<img src='clique_init.png' width=\"550\"/>"
   ]
  },
  {
   "cell_type": "markdown",
   "metadata": {},
   "source": [
    "Граф сверху:\n",
    "* Неориентированный\n",
    "* Невзвешенный\n",
    "* Cвязный\n",
    "* Подграф $\\mathcal{G'}$ состоящий из вершин $v_1, \\dots, v_5$ - полный подграф графа $\\mathcal{G}$\n",
    "* $V = \\{v_1, \\dots, v_{10} \\}, |V| = 10$\n",
    "* $E = \\{(v_1, v_2), (v1, v3), \\dots, (v_9, v_{10}) \\}, |E| = ?$\n",
    "* $N(v_2) = \\{v_1, v_3, v_6, v_8\\}$\n",
    "* Степень вершины $v_2$: $k_2 = |N(v_2)| =  4$\n",
    "* Расстояние между $v_5$ и $v_{7} = ?$\n",
    "* Диаметр графа $\\mathcal{G} = ?$"
   ]
  },
  {
   "cell_type": "markdown",
   "metadata": {},
   "source": [
    "# Форматы представления графов"
   ]
  },
  {
   "cell_type": "markdown",
   "metadata": {},
   "source": [
    "Форматов представления графов довольно много. Все форматы определяют топологию сети (т.е. её структуру), но некоторые могут не сохранять в себе все данные связанные с элементами сети (множество атрибутов ребер и вершин, динамические характеристики, рекоментованную прорисовку и тп).\n",
    "\n",
    "Ниже мы рассмотрим наиболее распространенные форматы."
   ]
  },
  {
   "cell_type": "markdown",
   "metadata": {},
   "source": [
    "## Матрица смежности"
   ]
  },
  {
   "cell_type": "markdown",
   "metadata": {},
   "source": [
    "Матрица связанности, Incidence matrix, Association matrix.\n",
    "\n",
    "Матрица связанности - это квадратная матрица размера $n \\times n$. Обозначим ее буквой $\\mathbf{A}$ <br/>\n",
    "\n",
    "**В невзвешенном графе:**<br/>\n",
    "$\\mathbf{A_{ij}} = 1$, если в графе есть ребро между вершинами $v_i$ и $v_j$ <br/>\n",
    "$\\mathbf{A_{ij}} = 0$, иначе\n",
    "\n",
    "**Во взвешенном графе:**<br/>\n",
    "$\\mathbf{A_{ij}} = w_{ij}$, если в графе есть ребро между вершинами $v_i$ и $v_j$ <br/>\n",
    "$\\mathbf{A_{ij}} = 0$, иначе\n",
    "\n",
    "Для графа выше матрица смежности имеет следующий вид:"
   ]
  },
  {
   "cell_type": "markdown",
   "metadata": {},
   "source": [
    "<img src='clique_matrix.png'/>"
   ]
  },
  {
   "cell_type": "markdown",
   "metadata": {},
   "source": [
    "**Преимущества:**\n",
    "* Наглядность\n",
    "* Удобно производить математические операции\n",
    "\n",
    "**Недостатки:**\n",
    "* Передает только структурную информацию (+ веса)\n",
    "* При неправильном хранении может занимать много места в памяти и на жестком диске"
   ]
  },
  {
   "cell_type": "markdown",
   "metadata": {},
   "source": [
    "## Список ребер"
   ]
  },
  {
   "cell_type": "markdown",
   "metadata": {},
   "source": [
    "Edge list\n",
    "\n",
    "Другой очевидный и популярный формат.\n",
    "\n",
    "На каждой строчке указываются идентификаторы смежных вершин (числовые признаки этих связей - веса)"
   ]
  },
  {
   "cell_type": "raw",
   "metadata": {},
   "source": [
    "1 2\n",
    "1 3\n",
    "1 4\n",
    "1 5\n",
    "1 6\n",
    "2 3\n",
    "2 4\n",
    "2 5\n",
    "2 6\n",
    "3 4\n",
    "3 5\n",
    "3 6\n",
    "4 5\n",
    "4 6\n",
    "5 6\n",
    "7 8\n",
    "7 9\n",
    "8 9\n",
    "8 10\n",
    "9 10\n",
    "3 7\n",
    "2 8\n",
    "6 10"
   ]
  },
  {
   "cell_type": "markdown",
   "metadata": {},
   "source": [
    "**Преимущества:**\n",
    "* Достаточно легкий формат\n",
    "\n",
    "**Недостатки:**\n",
    "* Передает структурную информацию\n",
    "* Может передавать несколько признаков связей (несколько весов)"
   ]
  },
  {
   "cell_type": "markdown",
   "metadata": {},
   "source": [
    "## Список смежности"
   ]
  },
  {
   "cell_type": "markdown",
   "metadata": {},
   "source": [
    "Adjacency list\n",
    "\n",
    "Один из самых экономичных форматов. \n",
    "\n",
    "Каждая строчке соответствует вершине. Через запятую указываются идентификаторы смежных с ней вершин"
   ]
  },
  {
   "cell_type": "raw",
   "metadata": {},
   "source": [
    "2, 3, 4, 5, 6\n",
    "1, 3, 4, 5, 6, 8\n",
    "1, 2, 4, 5, 6, 7\n",
    "1, 2, 3, 5, 6\n",
    "1, 2, 3, 4, 6\n",
    "1, 2, 3, 4, 5, 10\n",
    "3, 8, 9\n",
    "2, 7, 9, 10\n",
    "7, 8, 10\n",
    "6, 8, 9"
   ]
  },
  {
   "cell_type": "markdown",
   "metadata": {},
   "source": [
    "**Преимущества:**\n",
    "* Достаточно легкий формат\n",
    "\n",
    "**Недостатки:**\n",
    "* Передает только структурную информацию"
   ]
  },
  {
   "cell_type": "markdown",
   "metadata": {},
   "source": [
    "## Pajek формат"
   ]
  },
  {
   "cell_type": "markdown",
   "metadata": {},
   "source": [
    "Данный формат используется в программе для анализа больших сетей - [Pajek](http://mrvar.fdv.uni-lj.si/pajek/).\n",
    "По сути это немного расширенный формат списка ребер (или списка смежности)."
   ]
  },
  {
   "cell_type": "raw",
   "metadata": {},
   "source": [
    "*Vertices 10\n",
    "1 \"v_1\"\n",
    "2 \"v_2\"\n",
    "3 \"v_3\"\n",
    "4 \"v_4\"\n",
    "5 \"v_5\"\n",
    "6 \"v_6\"\n",
    "7 \"v_7\"\n",
    "8 \"v_8\"\n",
    "9 \"v_9\"\n",
    "10 \"v_10\"\n",
    "*Edges\n",
    "1 2\n",
    "1 3\n",
    "1 4\n",
    "1 5\n",
    "1 6\n",
    "2 3\n",
    "2 4\n",
    "2 5\n",
    "2 6\n",
    "3 4\n",
    "3 5\n",
    "3 6\n",
    "4 5\n",
    "4 6\n",
    "5 6\n",
    "7 8\n",
    "7 9\n",
    "8 9\n",
    "8 10\n",
    "9 10\n",
    "3 7\n",
    "2 8\n",
    "6 10"
   ]
  },
  {
   "cell_type": "markdown",
   "metadata": {},
   "source": [
    "**Преимущества:**\n",
    "* Поддерживаются комментарии\n",
    "* Оптимальный формат хранения информации о ребрах и вершинах\n",
    "\n",
    "**Недостатки:**\n",
    "* ..."
   ]
  },
  {
   "cell_type": "markdown",
   "metadata": {},
   "source": [
    "## GraphML"
   ]
  },
  {
   "cell_type": "markdown",
   "metadata": {},
   "source": [
    "Довольно \"толстый\" формат хранения данных, основанный на языке разметки XML. Представляет их себя набор тэгов, которые могут описать в сети абсолютно все."
   ]
  },
  {
   "cell_type": "markdown",
   "metadata": {},
   "source": [
    "<?xml version=\"1.0\" encoding=\"UTF-8\"?>\n",
    "<graphml xmlns=\"http://graphml.graphdrawing.org/xmlns\"\n",
    "         xmlns:xsi=\"http://www.w3.org/2001/XMLSchema-instance\"\n",
    "         xsi:schemaLocation=\"http://graphml.graphdrawing.org/xmlns\n",
    "         http://graphml.graphdrawing.org/xmlns/1.0/graphml.xsd\">\n",
    "<!-- Created by igraph -->\n",
    "  <key id=\"v_label\" for=\"node\" attr.name=\"label\" attr.type=\"string\"/>\n",
    "  <graph id=\"G\" edgedefault=\"undirected\">\n",
    "    <node id=\"n0\">\n",
    "      <data key=\"v_label\">v_1</data>\n",
    "    </node>\n",
    "    <node id=\"n1\">\n",
    "      <data key=\"v_label\">v_2</data>\n",
    "    </node>\n",
    "    <node id=\"n2\">\n",
    "      <data key=\"v_label\">v_3</data>\n",
    "    </node>\n",
    "    <node id=\"n3\">\n",
    "      <data key=\"v_label\">v_4</data>\n",
    "    </node>\n",
    "    <node id=\"n4\">\n",
    "      <data key=\"v_label\">v_5</data>\n",
    "    </node>\n",
    "    <node id=\"n5\">\n",
    "      <data key=\"v_label\">v_6</data>\n",
    "    </node>\n",
    "    ....\n",
    "    <edge source=\"n0\" target=\"n1\">\n",
    "    </edge>\n",
    "    <edge source=\"n0\" target=\"n2\">\n",
    "    </edge>\n",
    "    <edge source=\"n0\" target=\"n3\">\n",
    "    </edge>\n",
    "    ...\n",
    "  </graph>\n",
    "</graphml>"
   ]
  },
  {
   "cell_type": "markdown",
   "metadata": {},
   "source": [
    "**Преимущества:**\n",
    "* Возможно передать всю информацию о графе, его структуре и характеристиках элементов\n",
    "\n",
    "**Недостатки:**\n",
    "* Много весит..."
   ]
  },
  {
   "cell_type": "markdown",
   "metadata": {},
   "source": [
    "## GML"
   ]
  },
  {
   "cell_type": "markdown",
   "metadata": {},
   "source": [
    "GML (Graph Modelling Language) - так же гибкий формат представления графов. Однако он является чуть более \"читабельным\", чем GraphML"
   ]
  },
  {
   "cell_type": "raw",
   "metadata": {},
   "source": [
    "Creator \"igraph version 0.7.1 YYYY-MM-DD\"\n",
    "Version 1\n",
    "graph\n",
    "[\n",
    "  directed 0\n",
    "  node\n",
    "  [\n",
    "    id 0\n",
    "    label \"v_1\"\n",
    "  ]\n",
    "  node\n",
    "  [\n",
    "    id 1\n",
    "    label \"v_2\"\n",
    "  ]\n",
    "  node\n",
    "  [\n",
    "    id 2\n",
    "    label \"v_3\"\n",
    "  ]\n",
    "  \n",
    "  ...\n",
    "  \n",
    "  edge\n",
    "  [\n",
    "    source 1\n",
    "    target 0\n",
    "  ]\n",
    "  edge\n",
    "  [\n",
    "    source 2\n",
    "    target 0\n",
    "  ]\n",
    "  \n",
    "  ...\n",
    "  \n",
    "]\n"
   ]
  },
  {
   "cell_type": "markdown",
   "metadata": {},
   "source": [
    "**Преимущества:**\n",
    "* Возможно передать всю информацию о графе, его структуре и характеристиках элементов\n",
    "\n",
    "**Недостатки:**\n",
    "* Много весит..."
   ]
  },
  {
   "cell_type": "markdown",
   "metadata": {},
   "source": [
    "## Другие форматы"
   ]
  },
  {
   "cell_type": "markdown",
   "metadata": {},
   "source": [
    "Это далеко не все форматы представления сетевых структур, но самые основные. Некоторое сведение (так же неполное) форматов и их особенностей представлено на таблице ниже:"
   ]
  },
  {
   "cell_type": "markdown",
   "metadata": {},
   "source": [
    "<img src='graphformattablecomparison.png'>"
   ]
  },
  {
   "cell_type": "markdown",
   "metadata": {},
   "source": [
    "# Инструменты по работе с сетями"
   ]
  },
  {
   "cell_type": "markdown",
   "metadata": {},
   "source": [
    "## Gephi"
   ]
  },
  {
   "cell_type": "markdown",
   "metadata": {},
   "source": [
    "[Gephi](https://gephi.org/) - это очень крутой, недавно возрожденный, кнопочный, написанный на  Java, open-source проект для анализа и визуализации сетей. <br/> Вместо тысячи слов:"
   ]
  },
  {
   "cell_type": "code",
   "execution_count": 2,
   "metadata": {
    "collapsed": false
   },
   "outputs": [
    {
     "data": {
      "text/html": [
       "\n",
       "        <iframe\n",
       "            width=\"400\"\n",
       "            height=\"300\"\n",
       "            src=\"https://player.vimeo.com/video/9726202\"\n",
       "            frameborder=\"0\"\n",
       "            allowfullscreen\n",
       "        ></iframe>\n",
       "        "
      ],
      "text/plain": [
       "<IPython.lib.display.VimeoVideo at 0x103e16cd0>"
      ]
     },
     "execution_count": 2,
     "metadata": {},
     "output_type": "execute_result"
    }
   ],
   "source": [
    "from IPython.display import VimeoVideo\n",
    "VimeoVideo('9726202')"
   ]
  },
  {
   "cell_type": "markdown",
   "metadata": {},
   "source": [
    "## Cytoscape"
   ]
  },
  {
   "cell_type": "markdown",
   "metadata": {},
   "source": [
    "[Cytoscape](http://www.cytoscape.org/what_is_cytoscape.html) - приятный на вид, но довольно специфичный продукт, заточенный под нужны биологов."
   ]
  },
  {
   "cell_type": "markdown",
   "metadata": {},
   "source": [
    "## Pajek"
   ]
  },
  {
   "cell_type": "markdown",
   "metadata": {},
   "source": [
    "[Pajek](http://mrvar.fdv.uni-lj.si/pajek/) - так же большой и популярный проект.\n",
    "* Поддерживается академическими сообществами c 1996 года\n",
    "* Применяется для работы с действительно большими сетями: *\"The highest possible number of vertices that Pajek64-XXL can handle increased to 1.999.999.997 (for ordinary Pajek the limit stays 999.999.997\"*\n",
    "* Довольно много доступных туториалов\n",
    "* Открыт для некоммерческого использования ;)\n",
    "* Работает только под Windows =( (под Linux и Mac с некоторыми извращениями)"
   ]
  },
  {
   "cell_type": "markdown",
   "metadata": {},
   "source": [
    "<img src='http://wiki.cns.iu.edu/download/attachments/1245862/pajek1.jpg?version=1&modificationDate=1360781227075&api=v2'>"
   ]
  },
  {
   "cell_type": "markdown",
   "metadata": {},
   "source": [
    "<img src='http://wiki.cns.iu.edu/download/attachments/1245862/paek9jpg.jpg?version=1&modificationDate=1360781528235&api=v2'>"
   ]
  },
  {
   "cell_type": "markdown",
   "metadata": {},
   "source": [
    "## Распределенные вычисления на графах"
   ]
  },
  {
   "cell_type": "markdown",
   "metadata": {},
   "source": [
    "Есть решения для работы с графами с помощью распределенных вычислений, например [Spark GraphX](http://spark.apache.org/graphx/)"
   ]
  },
  {
   "cell_type": "markdown",
   "metadata": {},
   "source": [
    "## Библиотеки для работы с сетями на Python"
   ]
  },
  {
   "cell_type": "markdown",
   "metadata": {},
   "source": [
    "В языке `python` чаще всего используются следующие библиотеки:\n",
    "* `NetworkX` - подходит для работы с небольшими сетями\n",
    "* [`graph-tool`](https://graph-tool.skewed.de/) - Библиотека для работы с большими сетями при поддержке OpenMP и Boost c API для `python`\n",
    "* [SNAP](http://snap.stanford.edu/snappy/index.html) - Библиотека от Stanford для работы с большими сетями с API для `python`\n",
    "* [`igraph`](http://igraph.org/python/) - Библиотека для работы с большими сетями c API для `python`  и `R`\n",
    "\n",
    "Для наших занятий мы выбрали последнюю библиотеку, так в ней эффективно реализовано большое число алгоритмов для работы с сетями, её проще установить, чем `graph-tool`, а сложность использования незначительно выше `NetworkX`.\n",
    "\n",
    "FYI, можно посмотреть [бенчмарки](https://graph-tool.skewed.de/performance) для библиотек."
   ]
  },
  {
   "cell_type": "markdown",
   "metadata": {},
   "source": [
    "# Введение в igraph"
   ]
  },
  {
   "cell_type": "code",
   "execution_count": 1,
   "metadata": {
    "collapsed": false
   },
   "outputs": [],
   "source": [
    "import igraph as ig\n",
    "import matplotlib.pyplot as plt\n",
    "import seaborn as sns\n",
    "import numpy as np\n",
    "\n",
    "%matplotlib inline\n",
    "\n",
    "plt.style.use('ggplot')\n",
    "plt.rcParams['figure.figsize'] = (16,8)"
   ]
  },
  {
   "cell_type": "markdown",
   "metadata": {},
   "source": [
    "## Создадим граф"
   ]
  },
  {
   "cell_type": "code",
   "execution_count": 3,
   "metadata": {
    "collapsed": true
   },
   "outputs": [],
   "source": [
    "g = ig.Graph()"
   ]
  },
  {
   "cell_type": "code",
   "execution_count": 6,
   "metadata": {
    "collapsed": false
   },
   "outputs": [
    {
     "data": {
      "text/plain": [
       "<igraph.Graph at 0x1171ed908>"
      ]
     },
     "execution_count": 6,
     "metadata": {},
     "output_type": "execute_result"
    }
   ],
   "source": [
    "g"
   ]
  },
  {
   "cell_type": "code",
   "execution_count": 7,
   "metadata": {
    "collapsed": false
   },
   "outputs": [
    {
     "name": "stdout",
     "output_type": "stream",
     "text": [
      "IGRAPH U--- 0 0 --\n"
     ]
    }
   ],
   "source": [
    "print g"
   ]
  },
  {
   "cell_type": "code",
   "execution_count": 8,
   "metadata": {
    "collapsed": false
   },
   "outputs": [
    {
     "name": "stdout",
     "output_type": "stream",
     "text": [
      "IGRAPH U--- 0 0 -- our first graph\n",
      "+ attr: name (g)\n"
     ]
    }
   ],
   "source": [
    "# Аттрибуты графа\n",
    "g['name'] = 'our first graph'\n",
    "print g"
   ]
  },
  {
   "cell_type": "code",
   "execution_count": 9,
   "metadata": {
    "collapsed": false
   },
   "outputs": [
    {
     "data": {
      "text/plain": [
       "False"
      ]
     },
     "execution_count": 9,
     "metadata": {},
     "output_type": "execute_result"
    }
   ],
   "source": [
    "g.is_directed()"
   ]
  },
  {
   "cell_type": "markdown",
   "metadata": {},
   "source": [
    "## Добавим вершины"
   ]
  },
  {
   "cell_type": "code",
   "execution_count": 10,
   "metadata": {
    "collapsed": false
   },
   "outputs": [
    {
     "name": "stdout",
     "output_type": "stream",
     "text": [
      "IGRAPH U--- 5 0 -- our first graph\n",
      "+ attr: name (g)\n"
     ]
    }
   ],
   "source": [
    "g.add_vertices(5)\n",
    "print g"
   ]
  },
  {
   "cell_type": "code",
   "execution_count": 12,
   "metadata": {
    "collapsed": false
   },
   "outputs": [
    {
     "data": {
      "text/plain": [
       "5"
      ]
     },
     "execution_count": 12,
     "metadata": {},
     "output_type": "execute_result"
    }
   ],
   "source": [
    "g.vcount() # считаем число вершин в графе"
   ]
  },
  {
   "cell_type": "markdown",
   "metadata": {},
   "source": [
    "## Добавим ребра"
   ]
  },
  {
   "cell_type": "code",
   "execution_count": 13,
   "metadata": {
    "collapsed": false
   },
   "outputs": [
    {
     "name": "stdout",
     "output_type": "stream",
     "text": [
      "IGRAPH U--- 5 1 -- our first graph\n",
      "+ attr: name (g)\n",
      "+ edges:\n",
      "0--1\n"
     ]
    }
   ],
   "source": [
    "g.add_edge(0, 1)\n",
    "print g"
   ]
  },
  {
   "cell_type": "code",
   "execution_count": 14,
   "metadata": {
    "collapsed": false
   },
   "outputs": [
    {
     "name": "stdout",
     "output_type": "stream",
     "text": [
      "IGRAPH U--- 5 7 -- our first graph\n",
      "+ attr: name (g)\n",
      "+ edges:\n",
      "0 -- 1 2         2 -- 0 1 2 2 3   4 -- 3\n",
      "1 -- 0 2 3       3 -- 1 2 4\n"
     ]
    }
   ],
   "source": [
    "g.add_edges([(0,2), (1,3), (4,3), (1,2), (2,2), (3,2)])\n",
    "print g"
   ]
  },
  {
   "cell_type": "code",
   "execution_count": 15,
   "metadata": {
    "collapsed": false
   },
   "outputs": [
    {
     "data": {
      "text/plain": [
       "7"
      ]
     },
     "execution_count": 15,
     "metadata": {},
     "output_type": "execute_result"
    }
   ],
   "source": [
    "g.ecount()"
   ]
  },
  {
   "cell_type": "code",
   "execution_count": 16,
   "metadata": {
    "collapsed": false
   },
   "outputs": [
    {
     "ename": "InternalError",
     "evalue": "Error at type_indexededgelist.c:272: cannot add edges, Invalid vertex id",
     "output_type": "error",
     "traceback": [
      "\u001b[0;31m---------------------------------------------------------------------------\u001b[0m",
      "\u001b[0;31mInternalError\u001b[0m                             Traceback (most recent call last)",
      "\u001b[0;32m<ipython-input-16-01e06700397c>\u001b[0m in \u001b[0;36m<module>\u001b[0;34m()\u001b[0m\n\u001b[1;32m      1\u001b[0m \u001b[0;31m# Сейчас будет ошибка\u001b[0m\u001b[0;34m\u001b[0m\u001b[0;34m\u001b[0m\u001b[0m\n\u001b[0;32m----> 2\u001b[0;31m \u001b[0mg\u001b[0m\u001b[0;34m.\u001b[0m\u001b[0madd_edge\u001b[0m\u001b[0;34m(\u001b[0m\u001b[0;36m0\u001b[0m\u001b[0;34m,\u001b[0m \u001b[0;36m6\u001b[0m\u001b[0;34m)\u001b[0m\u001b[0;34m\u001b[0m\u001b[0m\n\u001b[0m",
      "\u001b[0;32m/Users/dmitrys/anaconda2/lib/python2.7/site-packages/igraph/__init__.pyc\u001b[0m in \u001b[0;36madd_edge\u001b[0;34m(self, source, target, **kwds)\u001b[0m\n\u001b[1;32m    235\u001b[0m         \"\"\"\n\u001b[1;32m    236\u001b[0m         \u001b[0;32mif\u001b[0m \u001b[0;32mnot\u001b[0m \u001b[0mkwds\u001b[0m\u001b[0;34m:\u001b[0m\u001b[0;34m\u001b[0m\u001b[0m\n\u001b[0;32m--> 237\u001b[0;31m             \u001b[0;32mreturn\u001b[0m \u001b[0mself\u001b[0m\u001b[0;34m.\u001b[0m\u001b[0madd_edges\u001b[0m\u001b[0;34m(\u001b[0m\u001b[0;34m[\u001b[0m\u001b[0;34m(\u001b[0m\u001b[0msource\u001b[0m\u001b[0;34m,\u001b[0m \u001b[0mtarget\u001b[0m\u001b[0;34m)\u001b[0m\u001b[0;34m]\u001b[0m\u001b[0;34m)\u001b[0m\u001b[0;34m\u001b[0m\u001b[0m\n\u001b[0m\u001b[1;32m    238\u001b[0m \u001b[0;34m\u001b[0m\u001b[0m\n\u001b[1;32m    239\u001b[0m         \u001b[0meid\u001b[0m \u001b[0;34m=\u001b[0m \u001b[0mself\u001b[0m\u001b[0;34m.\u001b[0m\u001b[0mecount\u001b[0m\u001b[0;34m(\u001b[0m\u001b[0;34m)\u001b[0m\u001b[0;34m\u001b[0m\u001b[0m\n",
      "\u001b[0;32m/Users/dmitrys/anaconda2/lib/python2.7/site-packages/igraph/__init__.pyc\u001b[0m in \u001b[0;36madd_edges\u001b[0;34m(self, es)\u001b[0m\n\u001b[1;32m    253\u001b[0m           \u001b[0mendpoints\u001b[0m\u001b[0;34m.\u001b[0m \u001b[0mVertices\u001b[0m \u001b[0mare\u001b[0m \u001b[0menumerated\u001b[0m \u001b[0;32mfrom\u001b[0m \u001b[0mzero\u001b[0m\u001b[0;34m.\u001b[0m\u001b[0;34m\u001b[0m\u001b[0m\n\u001b[1;32m    254\u001b[0m         \"\"\"\n\u001b[0;32m--> 255\u001b[0;31m         \u001b[0;32mreturn\u001b[0m \u001b[0mGraphBase\u001b[0m\u001b[0;34m.\u001b[0m\u001b[0madd_edges\u001b[0m\u001b[0;34m(\u001b[0m\u001b[0mself\u001b[0m\u001b[0;34m,\u001b[0m \u001b[0mes\u001b[0m\u001b[0;34m)\u001b[0m\u001b[0;34m\u001b[0m\u001b[0m\n\u001b[0m\u001b[1;32m    256\u001b[0m \u001b[0;34m\u001b[0m\u001b[0m\n\u001b[1;32m    257\u001b[0m     \u001b[0;32mdef\u001b[0m \u001b[0madd_vertex\u001b[0m\u001b[0;34m(\u001b[0m\u001b[0mself\u001b[0m\u001b[0;34m,\u001b[0m \u001b[0mname\u001b[0m\u001b[0;34m=\u001b[0m\u001b[0mNone\u001b[0m\u001b[0;34m,\u001b[0m \u001b[0;34m**\u001b[0m\u001b[0mkwds\u001b[0m\u001b[0;34m)\u001b[0m\u001b[0;34m:\u001b[0m\u001b[0;34m\u001b[0m\u001b[0m\n",
      "\u001b[0;31mInternalError\u001b[0m: Error at type_indexededgelist.c:272: cannot add edges, Invalid vertex id"
     ]
    }
   ],
   "source": [
    "# Сейчас будет ошибка\n",
    "g.add_edge(0, 6)"
   ]
  },
  {
   "cell_type": "markdown",
   "metadata": {},
   "source": [
    "## Различные операции с вершинами и ребрами"
   ]
  },
  {
   "cell_type": "markdown",
   "metadata": {},
   "source": [
    "**Через `.vs` мы можем производить операции с вершинами и вычислять их различные характеристики**"
   ]
  },
  {
   "cell_type": "code",
   "execution_count": 17,
   "metadata": {
    "collapsed": false
   },
   "outputs": [
    {
     "data": {
      "text/plain": [
       "[0, 1, 2, 3, 4]"
      ]
     },
     "execution_count": 17,
     "metadata": {},
     "output_type": "execute_result"
    }
   ],
   "source": [
    "g.vs.indices"
   ]
  },
  {
   "cell_type": "code",
   "execution_count": 18,
   "metadata": {
    "collapsed": false
   },
   "outputs": [
    {
     "data": {
      "text/plain": [
       "[2, 3, 5, 3, 1]"
      ]
     },
     "execution_count": 18,
     "metadata": {},
     "output_type": "execute_result"
    }
   ],
   "source": [
    "g.vs.degree()"
   ]
  },
  {
   "cell_type": "markdown",
   "metadata": {},
   "source": [
    "Ребрам можно задавать различные атрибуты (читай \"признаки\")"
   ]
  },
  {
   "cell_type": "code",
   "execution_count": 19,
   "metadata": {
    "collapsed": false
   },
   "outputs": [],
   "source": [
    "g.vs['label'] = ['v_%d' % (i+1) for i in range(g.vcount())]"
   ]
  },
  {
   "cell_type": "code",
   "execution_count": 20,
   "metadata": {
    "collapsed": false
   },
   "outputs": [
    {
     "data": {
      "text/plain": [
       "['label']"
      ]
     },
     "execution_count": 20,
     "metadata": {},
     "output_type": "execute_result"
    }
   ],
   "source": [
    "g.vs.attribute_names()"
   ]
  },
  {
   "cell_type": "code",
   "execution_count": 21,
   "metadata": {
    "collapsed": false
   },
   "outputs": [
    {
     "data": {
      "text/plain": [
       "['v_1', 'v_2', 'v_3', 'v_4', 'v_5']"
      ]
     },
     "execution_count": 21,
     "metadata": {},
     "output_type": "execute_result"
    }
   ],
   "source": [
    "g.vs['label']"
   ]
  },
  {
   "cell_type": "code",
   "execution_count": 22,
   "metadata": {
    "collapsed": false
   },
   "outputs": [
    {
     "data": {
      "text/plain": [
       "<igraph.VertexSeq at 0x117257ba8>"
      ]
     },
     "execution_count": 22,
     "metadata": {},
     "output_type": "execute_result"
    }
   ],
   "source": [
    "g.vs[0,1]"
   ]
  },
  {
   "cell_type": "code",
   "execution_count": 23,
   "metadata": {
    "collapsed": false
   },
   "outputs": [
    {
     "data": {
      "text/plain": [
       "['v_1', 'v_2']"
      ]
     },
     "execution_count": 23,
     "metadata": {},
     "output_type": "execute_result"
    }
   ],
   "source": [
    "g.vs[0,1]['label']"
   ]
  },
  {
   "cell_type": "markdown",
   "metadata": {},
   "source": [
    "Удалять атрибуты тоже легко:"
   ]
  },
  {
   "cell_type": "code",
   "execution_count": 24,
   "metadata": {
    "collapsed": true
   },
   "outputs": [],
   "source": [
    "del g.vs['label']"
   ]
  },
  {
   "cell_type": "code",
   "execution_count": 25,
   "metadata": {
    "collapsed": false
   },
   "outputs": [
    {
     "data": {
      "text/plain": [
       "[]"
      ]
     },
     "execution_count": 25,
     "metadata": {},
     "output_type": "execute_result"
    }
   ],
   "source": [
    "g.vs.attribute_names()"
   ]
  },
  {
   "cell_type": "markdown",
   "metadata": {},
   "source": [
    "**Аналогично, через `.es` мы работаем с ребрами**"
   ]
  },
  {
   "cell_type": "code",
   "execution_count": 26,
   "metadata": {
    "collapsed": false
   },
   "outputs": [
    {
     "data": {
      "text/plain": [
       "[0, 1, 2, 3, 4, 5, 6]"
      ]
     },
     "execution_count": 26,
     "metadata": {},
     "output_type": "execute_result"
    }
   ],
   "source": [
    "g.es.indices"
   ]
  },
  {
   "cell_type": "code",
   "execution_count": 27,
   "metadata": {
    "collapsed": false
   },
   "outputs": [
    {
     "data": {
      "text/plain": [
       "[False, False, False, False, False, True, False]"
      ]
     },
     "execution_count": 27,
     "metadata": {},
     "output_type": "execute_result"
    }
   ],
   "source": [
    "g.es.is_loop()"
   ]
  },
  {
   "cell_type": "code",
   "execution_count": 28,
   "metadata": {
    "collapsed": false
   },
   "outputs": [
    {
     "name": "stdout",
     "output_type": "stream",
     "text": [
      "Это ребро из вершины 0 в вершину 1 \n"
     ]
    }
   ],
   "source": [
    "print 'Это ребро из вершины %d в вершину %d ' % (g.es[0].source, g.es[0].target)"
   ]
  },
  {
   "cell_type": "markdown",
   "metadata": {},
   "source": [
    "Вершины и ребра можно выбирать в соответствии с заданными критериями"
   ]
  },
  {
   "cell_type": "raw",
   "metadata": {},
   "source": [
    "name_eq \tThe attribute/property value must be equal to the value of the keyword argument\n",
    "name_ne \tThe attribute/property value must not be equal to the value of the keyword argument\n",
    "name_lt \tThe attribute/property value must be less than the value of the keyword argument\n",
    "name_le \tThe attribute/property value must be less than or equal to the value of the keyword argument\n",
    "name_gt \tThe attribute/property value must be greater than the value of the keyword argument\n",
    "name_ge \tThe attribute/property value must be greater than or equal to the value of the keyword argument\n",
    "name_in \tThe attribute/property value must be included in the value of the keyword argument, which must be a sequence in this case\n",
    "name_notin \tThe attribute/property value must not be included in the value of the the keyword argument, which must be a sequence in this case"
   ]
  },
  {
   "cell_type": "code",
   "execution_count": 29,
   "metadata": {
    "collapsed": false
   },
   "outputs": [
    {
     "data": {
      "text/plain": [
       "[2, 4]"
      ]
     },
     "execution_count": 29,
     "metadata": {},
     "output_type": "execute_result"
    }
   ],
   "source": [
    "g.es.select(_from = 1).indices\n",
    "g.es(_from = 1).indices"
   ]
  },
  {
   "cell_type": "code",
   "execution_count": 30,
   "metadata": {
    "collapsed": false
   },
   "outputs": [
    {
     "data": {
      "text/plain": [
       "[1, 2, 3]"
      ]
     },
     "execution_count": 30,
     "metadata": {},
     "output_type": "execute_result"
    }
   ],
   "source": [
    "g.vs(_degree_gt = 2).indices"
   ]
  },
  {
   "cell_type": "markdown",
   "metadata": {},
   "source": [
    "Создадим атрибут у вершин и выберем подгруппу, удовлетворяющую определенному условию"
   ]
  },
  {
   "cell_type": "code",
   "execution_count": 31,
   "metadata": {
    "collapsed": true
   },
   "outputs": [],
   "source": [
    "g.vs['number'] = np.random.randint(10, 20, size=g.vcount())"
   ]
  },
  {
   "cell_type": "code",
   "execution_count": 32,
   "metadata": {
    "collapsed": false
   },
   "outputs": [
    {
     "data": {
      "text/plain": [
       "[0, 1, 2, 3]"
      ]
     },
     "execution_count": 32,
     "metadata": {},
     "output_type": "execute_result"
    }
   ],
   "source": [
    "g.vs(number_le = 15).indices"
   ]
  },
  {
   "cell_type": "markdown",
   "metadata": {},
   "source": [
    "## Объединение графов"
   ]
  },
  {
   "cell_type": "code",
   "execution_count": 33,
   "metadata": {
    "collapsed": true
   },
   "outputs": [],
   "source": [
    "g1 = g.copy()\n",
    "g2 = ig.Graph.Erdos_Renyi(5, 0.3)"
   ]
  },
  {
   "cell_type": "code",
   "execution_count": 34,
   "metadata": {
    "collapsed": false
   },
   "outputs": [
    {
     "name": "stdout",
     "output_type": "stream",
     "text": [
      "IGRAPH U--- 5 7 -- our first graph\n",
      "+ attr: name (g), number (v)\n",
      "+ edges:\n",
      "0 -- 1 2         2 -- 0 1 2 2 3   4 -- 3\n",
      "1 -- 0 2 3       3 -- 1 2 4\n",
      "==========\n",
      "IGRAPH U--- 5 2 --\n",
      "+ edges:\n",
      "0--2 3--4\n"
     ]
    }
   ],
   "source": [
    "print g1\n",
    "print '=' * 10\n",
    "print g2"
   ]
  },
  {
   "cell_type": "code",
   "execution_count": 35,
   "metadata": {
    "collapsed": false
   },
   "outputs": [
    {
     "name": "stdout",
     "output_type": "stream",
     "text": [
      "IGRAPH U--- 10 9 --\n",
      "+ edges:\n",
      "0--1 0--2 1--3 3--4 1--2 2--2 2--3 5--7 8--9\n"
     ]
    }
   ],
   "source": [
    "g3 = g1 + g2\n",
    "print g3"
   ]
  },
  {
   "cell_type": "markdown",
   "metadata": {},
   "source": [
    "## Задание"
   ]
  },
  {
   "cell_type": "markdown",
   "metadata": {},
   "source": [
    "Создайте граф, который был изображен в самом верху этого notebook. \n",
    "\n",
    "Hint:<br/>\n",
    "* команда `Graph.Full(n)` создает клику размера `n`"
   ]
  },
  {
   "cell_type": "code",
   "execution_count": 41,
   "metadata": {
    "collapsed": false
   },
   "outputs": [],
   "source": [
    "# Your code here\n",
    "g = ig.Graph.Full(6)"
   ]
  },
  {
   "cell_type": "code",
   "execution_count": 42,
   "metadata": {
    "collapsed": true
   },
   "outputs": [],
   "source": [
    "g.add_vertices(4)"
   ]
  },
  {
   "cell_type": "code",
   "execution_count": 43,
   "metadata": {
    "collapsed": false
   },
   "outputs": [
    {
     "name": "stdout",
     "output_type": "stream",
     "text": [
      "IGRAPH U--- 10 15 --\n",
      "+ edges:\n",
      " 0 --  1  2  3  4  5    4 --  0  1  2  3  5    8 --\n",
      " 1 --  0  2  3  4  5    5 --  0  1  2  3  4    9 --\n",
      " 2 --  0  1  3  4  5    6 --\n",
      " 3 --  0  1  2  4  5    7 --\n"
     ]
    }
   ],
   "source": [
    "print g"
   ]
  },
  {
   "cell_type": "code",
   "execution_count": 44,
   "metadata": {
    "collapsed": true
   },
   "outputs": [],
   "source": [
    "g.add_edges([(2,6), (1,7), (5,9), (6,7), (7,8), (6,8), (7,9), (9,8)])"
   ]
  },
  {
   "cell_type": "code",
   "execution_count": 46,
   "metadata": {
    "collapsed": false
   },
   "outputs": [
    {
     "name": "stdout",
     "output_type": "stream",
     "text": [
      "IGRAPH U--- 10 23 --\n",
      "+ edges:\n",
      " 0 --  1  2  3  4  5       4 --  0  1  2  3  5       8 --  6  7  9\n",
      " 1 --  0  2  3  4  5  7    5 --  0  1  2  3  4  9    9 --  5  7  8\n",
      " 2 --  0  1  3  4  5  6    6 --  2  7  8\n",
      " 3 --  0  1  2  4  5       7 --  1  6  8  9\n"
     ]
    }
   ],
   "source": [
    "print g"
   ]
  },
  {
   "cell_type": "code",
   "execution_count": 55,
   "metadata": {
    "collapsed": false
   },
   "outputs": [
    {
     "ename": "TypeError",
     "evalue": "plotting not available",
     "output_type": "error",
     "traceback": [
      "\u001b[0;31m---------------------------------------------------------------------------\u001b[0m",
      "\u001b[0;31mTypeError\u001b[0m                                 Traceback (most recent call last)",
      "\u001b[0;32m<ipython-input-55-51c00621be70>\u001b[0m in \u001b[0;36m<module>\u001b[0;34m()\u001b[0m\n\u001b[0;32m----> 1\u001b[0;31m \u001b[0mig\u001b[0m\u001b[0;34m.\u001b[0m\u001b[0mplot\u001b[0m\u001b[0;34m(\u001b[0m\u001b[0mg\u001b[0m\u001b[0;34m)\u001b[0m\u001b[0;34m\u001b[0m\u001b[0m\n\u001b[0m",
      "\u001b[0;32m/Users/dmitrys/anaconda2/lib/python2.7/site-packages/igraph/drawing/__init__.pyc\u001b[0m in \u001b[0;36mplot\u001b[0;34m(obj, target, bbox, *args, **kwds)\u001b[0m\n\u001b[1;32m    444\u001b[0m         \u001b[0mbbox\u001b[0m \u001b[0;34m=\u001b[0m \u001b[0mBoundingBox\u001b[0m\u001b[0;34m(\u001b[0m\u001b[0mbbox\u001b[0m\u001b[0;34m)\u001b[0m\u001b[0;34m\u001b[0m\u001b[0m\n\u001b[1;32m    445\u001b[0m \u001b[0;34m\u001b[0m\u001b[0m\n\u001b[0;32m--> 446\u001b[0;31m     \u001b[0mresult\u001b[0m \u001b[0;34m=\u001b[0m \u001b[0mPlot\u001b[0m\u001b[0;34m(\u001b[0m\u001b[0mtarget\u001b[0m\u001b[0;34m,\u001b[0m \u001b[0mbbox\u001b[0m\u001b[0;34m,\u001b[0m \u001b[0mbackground\u001b[0m\u001b[0;34m=\u001b[0m\u001b[0mkwds\u001b[0m\u001b[0;34m.\u001b[0m\u001b[0mget\u001b[0m\u001b[0;34m(\u001b[0m\u001b[0;34m\"background\"\u001b[0m\u001b[0;34m,\u001b[0m \u001b[0;34m\"white\"\u001b[0m\u001b[0;34m)\u001b[0m\u001b[0;34m)\u001b[0m\u001b[0;34m\u001b[0m\u001b[0m\n\u001b[0m\u001b[1;32m    447\u001b[0m \u001b[0;34m\u001b[0m\u001b[0m\n\u001b[1;32m    448\u001b[0m     \u001b[0;32mif\u001b[0m \u001b[0;34m\"margin\"\u001b[0m \u001b[0;32min\u001b[0m \u001b[0mkwds\u001b[0m\u001b[0;34m:\u001b[0m\u001b[0;34m\u001b[0m\u001b[0m\n",
      "\u001b[0;32m/Users/dmitrys/anaconda2/lib/python2.7/site-packages/igraph/drawing/__init__.pyc\u001b[0m in \u001b[0;36m__init__\u001b[0;34m(self, target, bbox, palette, background)\u001b[0m\n\u001b[1;32m    115\u001b[0m         \"\"\"\n\u001b[1;32m    116\u001b[0m         \u001b[0mself\u001b[0m\u001b[0;34m.\u001b[0m\u001b[0m_filename\u001b[0m \u001b[0;34m=\u001b[0m \u001b[0mNone\u001b[0m\u001b[0;34m\u001b[0m\u001b[0m\n\u001b[0;32m--> 117\u001b[0;31m         \u001b[0mself\u001b[0m\u001b[0;34m.\u001b[0m\u001b[0m_surface_was_created\u001b[0m \u001b[0;34m=\u001b[0m \u001b[0;32mnot\u001b[0m \u001b[0misinstance\u001b[0m\u001b[0;34m(\u001b[0m\u001b[0mtarget\u001b[0m\u001b[0;34m,\u001b[0m \u001b[0mcairo\u001b[0m\u001b[0;34m.\u001b[0m\u001b[0mSurface\u001b[0m\u001b[0;34m)\u001b[0m\u001b[0;34m\u001b[0m\u001b[0m\n\u001b[0m\u001b[1;32m    118\u001b[0m         \u001b[0mself\u001b[0m\u001b[0;34m.\u001b[0m\u001b[0m_need_tmpfile\u001b[0m \u001b[0;34m=\u001b[0m \u001b[0mFalse\u001b[0m\u001b[0;34m\u001b[0m\u001b[0m\n\u001b[1;32m    119\u001b[0m \u001b[0;34m\u001b[0m\u001b[0m\n",
      "\u001b[0;32m/Users/dmitrys/anaconda2/lib/python2.7/site-packages/igraph/drawing/utils.pyc\u001b[0m in \u001b[0;36m__getattr__\u001b[0;34m(self, _)\u001b[0m\n\u001b[1;32m    394\u001b[0m \u001b[0;34m\u001b[0m\u001b[0m\n\u001b[1;32m    395\u001b[0m     \u001b[0;32mdef\u001b[0m \u001b[0m__getattr__\u001b[0m\u001b[0;34m(\u001b[0m\u001b[0mself\u001b[0m\u001b[0;34m,\u001b[0m \u001b[0m_\u001b[0m\u001b[0;34m)\u001b[0m\u001b[0;34m:\u001b[0m\u001b[0;34m\u001b[0m\u001b[0m\n\u001b[0;32m--> 396\u001b[0;31m         \u001b[0;32mraise\u001b[0m \u001b[0mTypeError\u001b[0m\u001b[0;34m(\u001b[0m\u001b[0;34m\"plotting not available\"\u001b[0m\u001b[0;34m)\u001b[0m\u001b[0;34m\u001b[0m\u001b[0m\n\u001b[0m\u001b[1;32m    397\u001b[0m     \u001b[0;32mdef\u001b[0m \u001b[0m__call__\u001b[0m\u001b[0;34m(\u001b[0m\u001b[0mself\u001b[0m\u001b[0;34m,\u001b[0m \u001b[0m_\u001b[0m\u001b[0;34m)\u001b[0m\u001b[0;34m:\u001b[0m\u001b[0;34m\u001b[0m\u001b[0m\n\u001b[1;32m    398\u001b[0m         \u001b[0;32mraise\u001b[0m \u001b[0mTypeError\u001b[0m\u001b[0;34m(\u001b[0m\u001b[0;34m\"plotting not available\"\u001b[0m\u001b[0;34m)\u001b[0m\u001b[0;34m\u001b[0m\u001b[0m\n",
      "\u001b[0;31mTypeError\u001b[0m: plotting not available"
     ]
    }
   ],
   "source": [
    "ig.plot(g)"
   ]
  },
  {
   "cell_type": "markdown",
   "metadata": {},
   "source": [
    "Выведем матрицу смежности, список смежности и список ребер этого графа"
   ]
  },
  {
   "cell_type": "code",
   "execution_count": 47,
   "metadata": {
    "collapsed": false
   },
   "outputs": [
    {
     "data": {
      "text/plain": [
       "[[0, 1, 1, 1, 1, 1, 0, 0, 0, 0],\n",
       " [1, 0, 1, 1, 1, 1, 0, 1, 0, 0],\n",
       " [1, 1, 0, 1, 1, 1, 1, 0, 0, 0],\n",
       " [1, 1, 1, 0, 1, 1, 0, 0, 0, 0],\n",
       " [1, 1, 1, 1, 0, 1, 0, 0, 0, 0],\n",
       " [1, 1, 1, 1, 1, 0, 0, 0, 0, 1],\n",
       " [0, 0, 1, 0, 0, 0, 0, 1, 1, 0],\n",
       " [0, 1, 0, 0, 0, 0, 1, 0, 1, 1],\n",
       " [0, 0, 0, 0, 0, 0, 1, 1, 0, 1],\n",
       " [0, 0, 0, 0, 0, 1, 0, 1, 1, 0]]"
      ]
     },
     "execution_count": 47,
     "metadata": {},
     "output_type": "execute_result"
    }
   ],
   "source": [
    "A = g.get_adjacency().data\n",
    "A"
   ]
  },
  {
   "cell_type": "markdown",
   "metadata": {},
   "source": [
    "Сохраним что-нибудь из этого:"
   ]
  },
  {
   "cell_type": "code",
   "execution_count": 48,
   "metadata": {
    "collapsed": false
   },
   "outputs": [],
   "source": [
    "g.write_edgelist('graph.edglist')"
   ]
  },
  {
   "cell_type": "code",
   "execution_count": 49,
   "metadata": {
    "collapsed": false
   },
   "outputs": [
    {
     "name": "stdout",
     "output_type": "stream",
     "text": [
      "0 1\r\n",
      "0 2\r\n",
      "0 3\r\n",
      "0 4\r\n",
      "0 5\r\n",
      "1 2\r\n",
      "1 3\r\n",
      "1 4\r\n",
      "1 5\r\n",
      "1 7\r\n"
     ]
    }
   ],
   "source": [
    "!head graph.edglist"
   ]
  },
  {
   "cell_type": "markdown",
   "metadata": {
    "collapsed": true
   },
   "source": [
    "# Ваши соц-графы"
   ]
  },
  {
   "cell_type": "markdown",
   "metadata": {},
   "source": [
    "Загрузите ваши соц-графы. Поупражняйтесь на них с `igraph`.\n",
    "\n",
    "Если вы не успели, то один из ваших преподавателей любезно согласился поделится своим графом дружбы с Facebook."
   ]
  },
  {
   "cell_type": "code",
   "execution_count": 50,
   "metadata": {
    "collapsed": false
   },
   "outputs": [],
   "source": [
    "g = ig.Graph()\n",
    "\n",
    "filename = 'network.gml'\n",
    "g = g.Read_GML(filename)"
   ]
  },
  {
   "cell_type": "code",
   "execution_count": 51,
   "metadata": {
    "collapsed": false
   },
   "outputs": [
    {
     "name": "stdout",
     "output_type": "stream",
     "text": [
      "IGRAPH U--- 142 713 --\n",
      "+ attr: agerank (v), id (v), label (v), sex (v)\n",
      "+ edges:\n",
      "  0 --\n",
      "  1 --   5  10  17  18  25  26  31  47  53  85 110 114 129 134\n",
      "  2 --   6  22  24  28  29  33  35  36  37  57  70  73  78  80  82  92  97 113\n",
      "119 124\n",
      "  3 --   4  19  31  83  85 123 130\n",
      "  4 --   3  10  13  17  18  19  31  40  83  85 129 134\n",
      "  5 --   1  17  18  19  26  45  47  53  85 110 114 129 134\n",
      "  6 --   2   9  14  22  28  29  33  35  38  44  52  64  80  82 124 127 128\n",
      "  7 --  47  85 100\n",
      "  8 -- 116\n",
      "  9 --   6  29  35  78 119 120 124\n",
      " 10 --   1   4  13  16  17  18  26  47  50  53  85 100 110 114 129 130 134\n",
      " 11 --  41  60 111\n",
      " 12 --  42  62  68 102 108 137\n",
      " 13 --   4  10  19  31  83\n",
      " 14 --   6  15  22  29  37  39  44  46  52  54  59  64  67  69  71  75  82  84\n",
      "88  89  92  94  96 104 115 128 133\n",
      " 15 --  14  43  46  54  59  67  69  71  75  88  89  94  96 104 115\n",
      " 16 --  10  17  18  25  45  47  50  58  85 100 110 130 134 140\n",
      " 17 --   1   4   5  10  16  18  25  31  32  47  50  53  58  85 100 110 114 129\n",
      "130 134\n",
      " 18 --   1   4   5  10  16  17  25  26  31  40  45  47  53  85 110 114 129 134\n",
      " 19 --   3   4   5  13  31  40  83 114 123 129\n",
      " 20 --  38  43  49  70  84  97 105\n",
      " 21 -- 101 106 111 116 131 136\n",
      " 22 --   2   6  14  24  28  29  35  37  44  64  70  73  78  80  82  88  92 124\n",
      " 23 --\n",
      " 24 --   2  22  28  29  35  44  57  70  73  80  89  92\n",
      " 25 --   1  16  17  18  47  50  53  58  76  85 100 110 114 117 129 130 134\n",
      " 26 --   1   5  10  18  31  45  53  58  85 110 114 129 130 134\n",
      " 27 --  41  49  84\n",
      " 28 --   2   6  22  24  29  33  35  44  70  73  80  82  92 119\n",
      " 29 --   2   6   9  14  22  24  28  33  35  36  37  38  44  46  52  54  55  57\n",
      "64  69  70  73  74  75  78  80  82  88  89  92  97 113 115 119 120 124 127 128\n",
      "133\n",
      " 30 --  49  96 105 115\n",
      " 31 --   1   3   4  13  17  18  19  26  40  47  53  58  83  85 100 110 114 122\n",
      "129\n",
      " 32 --  17  47  76  85 100 110 129 130\n",
      " 33 --   2   6  28  29  35  37  44  55  69 115 119 120 124 132\n",
      " 34 --  49 105\n",
      " 35 --   2   6   9  22  24  28  29  33  36  38  44  73  80  82  92 113 119\n",
      " 36 --   2  29  35  73  80 113 119\n",
      " 37 --   2  14  22  29  33  38  39  52  57  64  69  74  78  84  86  88 120 124\n",
      "128 132\n",
      " 38 --   6  20  29  35  37  39  49  52  55  70  78  84 120 128\n",
      " 39 --  14  37  38  52  57  64  70  74  78  97 120 128 132\n",
      " 40 --   4  18  19  31 114 129 134\n",
      " 41 --  11  27\n",
      " 42 --  12  56  61  62  68  72  98 102 107 108 109 137 139 141\n",
      " 43 --  15  20  54  67  71  89\n",
      " 44 --   6  14  22  24  28  29  33  35  52  57  64  70  73  80  82  88  89  92\n",
      "97 124\n",
      " 45 --   5  16  18  26  47  53  76  85 117 130 134\n",
      " 46 --  14  15  29  54  59  67  69  71  75  82  88  89  92  94  96  99 104 115\n",
      "133\n",
      " 47 --   1   5   7  10  16  17  18  25  31  32  45  50  53  58  76  85  87 100\n",
      "110 114 117 129 130 134 140\n",
      " 48 --  54  88 125\n",
      " 49 --  20  27  30  34  38  79  84 105\n",
      " 50 --  10  16  17  25  47  85 100 129\n",
      " 51 --  69 122 129\n",
      " 52 --   6  14  29  37  38  39  44  57  64  74  78 120 128\n",
      " 53 --   1   5  10  17  18  25  26  31  45  47  58  78  85 110 114 129 134\n",
      " 54 --  14  15  29  43  46  48  59  67  69  71  75  77  79  82  88  89  94  96\n",
      "112 115 120 125 133\n",
      " 55 --  29  33  38 128 132\n",
      " 56 --  42  61  72  98 102 139 141\n",
      " 57 --   2  24  29  37  39  44  52  64  70  74  78  82  86  88  92  97 115 128\n",
      " 58 --  16  17  25  26  31  47  53  76  78  85 110 129 130\n",
      " 59 --  14  15  46  54  67  71  88  89  96 115\n",
      " 60 --  11 111\n",
      " 61 --  42  56  68  72  98 102 137 139 141\n",
      " 62 --  12  42  68 102 107 108 141\n",
      " 63 --  77\n",
      " 64 --   6  14  22  29  37  39  44  52  57  70  74  78  86 124 128 132\n",
      " 65 --\n",
      " 66 --  90\n",
      " 67 --  14  15  43  46  54  59  69  71  88  89  94  96 104 115\n",
      " 68 --  12  42  61  62  98 102 107 108 109 137 139 141\n",
      " 69 --  14  15  29  33  37  46  51  54  67  71  75  88  89  93  94  96 104 115\n",
      " 70 --   2  20  22  24  28  29  38  39  44  57  64  78  82  84  92  97\n",
      " 71 --  14  15  43  46  54  59  67  69  77  88  89  96  99 104 115 125 133\n",
      " 72 --  42  56  61  98 102 139 141\n",
      " 73 --   2  22  24  28  29  35  36  44  80  82  92 113\n",
      " 74 --  29  37  39  52  57  64  78 128\n",
      " 75 --  14  15  29  46  54  69  88  89  93  94\n",
      " 76 --  25  32  45  47  58  85 110 117 129\n",
      " 77 --  54  63  71  79 115 133\n",
      " 78 --   2   9  22  29  37  38  39  52  53  57  58  64  70  74  84  85  86  88\n",
      "97 117 120 124 128\n",
      " 79 --  49  54  77  84 105\n",
      " 80 --   2   6  22  24  28  29  35  36  44  73  82  92 113 119\n",
      " 81 --  90  95 116\n",
      " 82 --   2   6  14  22  28  29  35  44  46  54  57  70  73  80  88  89  92\n",
      " 83 --   3   4  13  19  31 129\n",
      " 84 --  14  20  27  37  38  49  70  78  79 105\n",
      " 85 --   1   3   4   5   7  10  16  17  18  25  26  31  32  45  47  50  53  58\n",
      "76  78  87 100 110 114 117 129 130 134 140\n",
      " 86 --  37  57  64  78 124\n",
      " 87 --  47  85 100\n",
      " 88 --  14  15  22  29  37  44  46  48  54  57  59  67  69  71  75  78  82  89\n",
      "92  94  96  97 104 115 120\n",
      " 89 --  14  15  24  29  43  44  46  54  59  67  69  71  75  82  88  94  96 115\n",
      "133\n",
      " 90 --  66  81 101 106\n",
      " 91 --\n",
      " 92 --   2  14  22  24  28  29  35  44  46  57  70  73  80  82  88\n",
      " 93 --  69  75\n",
      " 94 --  14  15  46  54  67  69  75  88  89\n",
      " 95 --  81\n",
      " 96 --  14  15  30  46  54  59  67  69  71  88  89 105 115 125 133\n",
      " 97 --   2  20  29  39  44  57  70  78  88\n",
      " 98 --  42  56  61  68  72 102 137 139 141\n",
      " 99 --  46  71 115 133\n",
      "100 --   7  10  16  17  25  31  32  47  50  85  87\n",
      "101 --  21  90 106 116\n",
      "102 --  12  42  56  61  62  68  72  98 107 108 109 137 139 141\n",
      "103 -- 111\n",
      "104 --  14  15  46  67  69  71  88 115\n",
      "105 --  20  30  34  49  79  84  96\n",
      "106 --  21  90 101 116\n",
      "107 --  42  62  68 102 137 139 141\n",
      "108 --  12  42  62  68 102\n",
      "109 --  42  68 102 137 139 141\n",
      "110 --   1   5  10  16  17  18  25  26  31  32  47  53  58  76  85 114 117 129\n",
      "130 134\n",
      "111 --  11  21  60 103\n",
      "112 --  54\n",
      "113 --   2  29  35  36  73  80\n",
      "114 --   1   5  10  17  18  19  25  26  31  40  47  53  85 110 123 129 134\n",
      "115 --  14  15  29  30  33  46  54  57  59  67  69  71  77  88  89  96  99 104\n",
      "120 133\n",
      "116 --   8  21  81 101 106\n",
      "117 --  25  45  47  76  78  85 110 140\n",
      "118 --\n",
      "119 --   2   9  28  29  33  35  36  80 120\n",
      "120 --   9  29  33  37  38  39  52  54  78  88 115 119 128\n",
      "121 -- 131\n",
      "122 --  31  51 135\n",
      "123 --   3  19 114\n",
      "124 --   2   6   9  22  29  33  37  44  64  78  86 127 132\n",
      "125 --  48  54  71  96\n",
      "126 --\n",
      "127 --   6  29 124 132\n",
      "128 --   6  14  29  37  38  39  52  55  57  64  74  78 120\n",
      "129 --   1   4   5  10  17  18  19  25  26  31  32  40  47  50  51  53  58  76\n",
      "83  85 110 114 130\n",
      "130 --   3  10  16  17  25  26  32  45  47  58  85 110 129\n",
      "131 --  21 121 136\n",
      "132 --  33  37  39  55  64 124 127\n",
      "133 --  14  29  46  54  71  77  89  96  99 115\n",
      "134 --   1   4   5  10  16  17  18  25  26  40  45  47  53  85 110 114 140\n",
      "135 -- 122\n",
      "136 --  21 131\n",
      "137 --  12  42  61  68  98 102 107 109 139 141\n",
      "138 --\n",
      "139 --  42  56  61  68  72  98 102 107 109 137 141\n",
      "140 --  16  47  85 117 134\n",
      "141 --  42  56  61  62  68  72  98 102 107 109 137 139\n"
     ]
    }
   ],
   "source": [
    "print g"
   ]
  },
  {
   "cell_type": "code",
   "execution_count": 57,
   "metadata": {
    "collapsed": false
   },
   "outputs": [
    {
     "data": {
      "text/plain": [
       "142"
      ]
     },
     "execution_count": 57,
     "metadata": {},
     "output_type": "execute_result"
    }
   ],
   "source": [
    "g.vcount()"
   ]
  },
  {
   "cell_type": "code",
   "execution_count": 58,
   "metadata": {
    "collapsed": false
   },
   "outputs": [
    {
     "data": {
      "text/plain": [
       "713"
      ]
     },
     "execution_count": 58,
     "metadata": {},
     "output_type": "execute_result"
    }
   ],
   "source": [
    "g.ecount()"
   ]
  },
  {
   "cell_type": "code",
   "execution_count": null,
   "metadata": {
    "collapsed": true
   },
   "outputs": [],
   "source": []
  }
 ],
 "metadata": {
  "anaconda-cloud": {},
  "author": "shestakoff_andrey",
  "kernelspec": {
   "display_name": "Python [Root]",
   "language": "python",
   "name": "Python [Root]"
  },
  "language_info": {
   "codemirror_mode": {
    "name": "ipython",
    "version": 2
   },
   "file_extension": ".py",
   "mimetype": "text/x-python",
   "name": "python",
   "nbconvert_exporter": "python",
   "pygments_lexer": "ipython2",
   "version": "2.7.12"
  },
  "mailto": "shestakoffandrey@gmail.com",
  "nav_menu": {},
  "toc": {
   "navigate_menu": true,
   "number_sections": false,
   "sideBar": true,
   "threshold": 6,
   "toc_cell": false,
   "toc_section_display": "block",
   "toc_window_display": true
  }
 },
 "nbformat": 4,
 "nbformat_minor": 2
}
