{
 "cells": [
  {
   "cell_type": "markdown",
   "metadata": {},
   "source": [
    "# Математика для машинного обучения\n",
    "## Домашнее задание №1\n",
    "\n",
    "_Автор задания: Илья Щуров_\n",
    "\n",
    "Подготовлено для программы «[Практический анализ данных и машинное обучение](https://cs.hse.ru/dpo/bigml)» (ФКН НИУ ВШЭ)."
   ]
  },
  {
   "cell_type": "markdown",
   "metadata": {},
   "source": [
    "Задание выполнил: Сергеев Дмитрий"
   ]
  },
  {
   "cell_type": "markdown",
   "metadata": {},
   "source": [
    "### Задача 1"
   ]
  },
  {
   "cell_type": "markdown",
   "metadata": {},
   "source": [
    "Рассмотрим картинку."
   ]
  },
  {
   "cell_type": "code",
   "execution_count": 3,
   "metadata": {
    "collapsed": true
   },
   "outputs": [],
   "source": [
    "import sys\n",
    "sys.path.append('/Users/dmitrys/anaconda2/lib/python2.7/site-packages')\n",
    "# так костыльно я лечу проблемы с поиском путей к некоторым пакетам"
   ]
  },
  {
   "cell_type": "code",
   "execution_count": 4,
   "metadata": {
    "collapsed": false
   },
   "outputs": [
    {
     "data": {
      "image/png": "[encoded data removed]",
      "text/plain": [
       "<matplotlib.figure.Figure at 0x1099fb050>"
      ]
     },
     "metadata": {},
     "output_type": "display_data"
    }
   ],
   "source": [
    "import matplotlib.pyplot as plt\n",
    "import numpy as np\n",
    "\n",
    "%matplotlib inline\n",
    "fig = plt.figure(figsize=(6,6))\n",
    "fig.gca().grid(True)\n",
    "plt.xlim(-4, 4)\n",
    "plt.ylim(-4, 4)\n",
    "plt.xlabel(\"$x_1$\", fontsize=18)\n",
    "plt.ylabel(\"$x_2$\", fontsize=18)\n",
    "\n",
    "points = [('O', 0, 0), ('A', 2, 3), ('B', -2, 1), ('C', 1, 1), ('D', -1, 2), ('E', 0, 1), ('F', 1, 0), ('H', 4, -1)]\n",
    "\n",
    "plt.plot([p[1] for p in points], [p[2] for p in points], 'o', color='black')\n",
    "for p in points:\n",
    "    plt.text(p[1] + 0.1, p[2] + 0.1, \"$%s$\" % p[0], fontsize = 18)"
   ]
  },
  {
   "cell_type": "markdown",
   "metadata": {},
   "source": [
    "1. Найти координаты вектора $\\overrightarrow{AE}$.\n",
    "1. Найти сумму $\\overrightarrow{OC}+\\overrightarrow{CD}$.\n",
    "1. Найти сумму $\\overrightarrow{OC}+\\overrightarrow{OB}$.\n",
    "2. Выразить вектор $\\overrightarrow{OC}$ в виде линейной комбинации векторов $\\overrightarrow{OE}$ и $\\overrightarrow{OF}$.\n",
    "3. Выразить вектор $\\overrightarrow{OB}$ в виде линейной комбинации векторов $\\overrightarrow{OC}$ и $\\overrightarrow{FE}$.\n",
    "4. Выразить вектор $\\overrightarrow{FH}$ в виде линейной комбинации векторов $\\overrightarrow{OC}$ и $\\overrightarrow{FE}$."
   ]
  },
  {
   "cell_type": "markdown",
   "metadata": {},
   "source": [
    "#### Решение \n",
    "1. $\\overrightarrow{AE} = (0-2, 1-3) = (-2, -2)$\n",
    "2. $\\overrightarrow{OC}+\\overrightarrow{CD} = (-1, 2)$\n",
    "3. $\\overrightarrow{OC}+\\overrightarrow{OB} = (-1, 2)$\n",
    "4. $\\overrightarrow{OC} = \\overrightarrow{OE} + \\overrightarrow{OF}$\n",
    "5. $\\overrightarrow{OB} = -0.5 * \\overrightarrow{OC} + 1.5 * \\overrightarrow{FE}$\n",
    "6. $\\overrightarrow{FH} = -2*\\overrightarrow{FE} + \\overrightarrow{OC}$"
   ]
  },
  {
   "cell_type": "markdown",
   "metadata": {},
   "source": [
    "**Утверждение.** Прямая, проходящая через точку $P$ в направлении вектора $u$ задаётся как множество точек $Q$, таких, что\n",
    "\n",
    "$\\overrightarrow{OQ} = \\overrightarrow{OP} + tu$, где параметр $t$ пробегает множество всех вещественных чисел."
   ]
  },
  {
   "cell_type": "markdown",
   "metadata": {},
   "source": [
    "### Задача 2\n",
    "Для той же картинки:\n",
    "1. Записать в параметрическом виде уравнение прямой, проходящей через точки $B$ и $A$.\n",
    "2. Записать в параметрическом виде уравнение прямой, проходящей через точки $D$ и $E$.\n",
    "3. Найти координаты точки пересечения этих прямых, используя результаты двух предыдущих пунктов (записать систему уравнений, решить её и найти координаты точки пересечения)."
   ]
  },
  {
   "cell_type": "markdown",
   "metadata": {},
   "source": [
    "#### Решение \n",
    "1) Находим направляющий вектор $\\overrightarrow{BA} = (2- (-2), 3- 1) = (4, 2)$\n",
    "\n",
    "Находим точку $B$, через которую проходит прямая, $B$ = (-2, 1)\n",
    "\n",
    "Записываем в параметрическом виде уравнение:\n",
    "\n",
    "$\\begin{equation*}\n",
    "\\begin{cases}\n",
    "x = -2 + 4*t \\\\\n",
    "y = 1 + 2*t\n",
    "\\end{cases}\n",
    "\\end{equation*}\n",
    "$\n",
    "\n",
    "2) Аналогично находим направляющий вектор $\\overrightarrow{DE} = (1, -1)$, и точку $D = (-1, 2)$\n",
    "\n",
    "Уравнение:\n",
    "\n",
    "$\\begin{equation*}\n",
    "\\begin{cases}\n",
    "x = -1 + t \\\\\n",
    "y = 2 - t\n",
    "\\end{cases}\n",
    "\\end{equation*}\n",
    "$\n",
    "\n",
    "3) Ищем координаты точки пересечени\n",
    "\n",
    "$\\begin{equation*}\n",
    "\\begin{cases}\n",
    "-2+ 4*t = -1 + t \\\\\n",
    "1+2*t = 2 - t\n",
    "\\end{cases}\n",
    "\\end{equation*}\n",
    "$\n",
    "\n",
    "Отсюда $t = \\frac{1}{3}$, координаты точки пересечения - $(-1 + \\frac{1}{3}, 2- \\frac{1}{3}) = (-\\frac{2}{3}, \\frac{5}{3})$"
   ]
  },
  {
   "cell_type": "markdown",
   "metadata": {},
   "source": [
    "### Задача 3\n",
    "При каком условии на вектор $u=(u_1, u_2)$ прямая, параллельная вектору $u$, может быть задана в виде $x_2 = k x_1 + b$? Докажите."
   ]
  },
  {
   "cell_type": "markdown",
   "metadata": {},
   "source": [
    "#### Решение \n",
    "В случае, если вектор ненулевой, то для того, чтобы прямая была параллельна ему необходимо и достаточно, чтобы координаты вектора и направляющего вектора данной прямой были связаны следующим соотношением (необходимое и достаточно условие коллинеарности векторов):\n",
    "\n",
    "$\\begin{equation*}\n",
    "\\begin{cases}\n",
    "x_1 = \\lambda * u_1 \\\\\n",
    "x_2 = \\lambda * u_2\n",
    "\\end{cases}\n",
    "\\end{equation*}\n",
    "$,\n",
    "где $\\lambda \\in \\mathbb{R}$\n",
    "\n",
    "Если же вектор является нулевым, то по определению он считается коллинеарным и нормальным любому другому вектору."
   ]
  },
  {
   "cell_type": "markdown",
   "metadata": {},
   "source": [
    "**Определение.** *Скалярным произведением* векторов $u=(u_1, \\ldots, u_n)$ и $v=(v_1, \\ldots, v_n)$ будем называть число (скаляр), обозначаемое $(u, v)$ и равное $u_1 v_1 + u_2 v_2 + \\ldots + u_n v_n$. Скалярное произведение также можно определить как $|u|\\cdot |v|\\cdot \\cos \\alpha$, где $\\alpha$ — угол между векторами, $|u|$ и $|v|$ — их длины.\n",
    "\n",
    "**Замечание.** Вообще говоря, скалярное произведение не всегда определяется координатной формулой, указанной выше: она справедлива только если система координат прямоугольная (вернее, базис ортонормирован). Но мы в основном будем работать именно с такими системами координат.\n",
    "\n",
    "**Следствие из определения.** Векторы $u$ и $v$ перпендикулярны тогда и только тогда, когда их скалярное произведение равно нулю. (Нулевой вектор перпендикулярен чему угодно.)"
   ]
  },
  {
   "cell_type": "markdown",
   "metadata": {},
   "source": [
    "### Задача 4\n",
    "Доказать следующие свойства скалярного произведения:\n",
    "\n",
    "Для любых трёх векторов $u, v, w$ и любого скаляра $\\lambda$:\n",
    "\n",
    "1. $(u + v, w) = (u, w) + (v, w)$;\n",
    "2. $(u, v + w) = (u, v) + (u, w)$;\n",
    "3. $(\\lambda u, v) = \\lambda (u, v)$;\n",
    "4. $(u, \\lambda v) = \\lambda (u, v)$.\n",
    "\n",
    "Эти свойства называются «билинейностью» (то есть линейности по обоим аргументам)."
   ]
  },
  {
   "cell_type": "markdown",
   "metadata": {},
   "source": [
    "#### Решение \n",
    "1.  $(u + v, w) = ( (u_1 + v_1) \\cdot w_1 + (u_2 + v_2)\\cdot w_2 + \\ldots + (u_n + v_n) \\cdot w_n) = ((u_1 \\cdot w_1) + (v_2 \\cdot w_1) + (u_2 \\cdot w_2) + (v_2 \\cdot w_2) + \\ldots + (u_n \\cdot w_n) + (v_n \\cdot w_n)) = (u, w) + (v, w) \\\\$\n",
    " \n",
    "2. $(u,v+ w) = ( (w_1 + v_1) \\cdot u_1 + (w_2 + v_2)\\cdot u_2 + \\ldots + (w_n + v_n)\\cdot u_n) = ((u_1 \\cdot w_1) + (v_2 \\cdot u_1) + (u_2 \\cdot w_2) + (v_2 \\cdot u_2) + \\ldots, (u_n \\cdot w_n) + (v_n \\cdot u_n)) = (u, v) + (u, w) \\\\$\n",
    "\n",
    "3. $(\\lambda u, v) = ((\\lambda u_1) \\cdot v_1 + (\\lambda  u_2) \\cdot v_2 + \\ldots + (\\lambda u_n) \\cdot v_n) = ((\\lambda (u_1 \\cdot v_1) + \\lambda (u_2 \\cdot v_2) + \\ldots + \\lambda  (u_n \\cdot v_n)) = \\lambda (u, v) \\\\$\n",
    "\n",
    "4. $(u, \\lambda v) = ((\\lambda v_1) \\cdot u_1 + (\\lambda  v_2) \\cdot u_2 + \\ldots + (\\lambda v_n) \\cdot u_n) = ((\\lambda (v_1 \\cdot u_1) + \\lambda (v_2 \\cdot u_2) + \\ldots + \\lambda  (v_n \\cdot u_n)) = \\lambda (u, v) \\\\$"
   ]
  },
  {
   "cell_type": "markdown",
   "metadata": {},
   "source": [
    "### Задача 5\n",
    "При каком значении параметра $t$ векторы $u=(2, t)$ и $v=(4, -1)$\n",
    "\n",
    "1. Параллельны;\n",
    "2. Перпендикулярны?"
   ]
  },
  {
   "cell_type": "markdown",
   "metadata": {},
   "source": [
    "#### Решение \n",
    "\n",
    "1. $\\begin{equation*}\n",
    "\\begin{cases}\n",
    "4 = \\lambda \\cdot 2 \\\\\n",
    "-1 = \\lambda \\cdot t\n",
    "\\end{cases}\n",
    "\\end{equation*}\n",
    "$, $ \\Rightarrow \\lambda = 2 \\Rightarrow -1 = 2 \\cdot t = -0.5 \\\\$\n",
    "\n",
    "2. $2 \\cdot 4 + t \\cdot (-1) = 8 - t = 0 \\iff t = 8$"
   ]
  },
  {
   "cell_type": "markdown",
   "metadata": {},
   "source": [
    "### Задача 6\n",
    "Описать множество всех векторов\n",
    "\n",
    "1. параллельных;\n",
    "2. перпрендикулярных\n",
    "\n",
    "прямой, заданной уравнением $2x_1 + 3x_2 = \\sqrt{\\pi}$"
   ]
  },
  {
   "cell_type": "markdown",
   "metadata": {},
   "source": [
    "#### Решение \n",
    "\n",
    "Найдем направляющий вектор для заданной прямой, для этого возьмем две точки, лежащие на этой прямой - проще всего взять точки пересечения с осями координат:\n",
    "\n",
    "$x_1 = 0 \\Rightarrow x_2 = \\frac{\\sqrt{\\pi}}{3}, A = (0, \\frac{\\sqrt{\\pi}}{3})$\n",
    "\n",
    "$x_2 = 0 \\Rightarrow x_1 = \\frac{\\sqrt{\\pi}}{2}, B = (\\frac{\\sqrt{\\pi}}{2}, 0)$\n",
    "\n",
    "$\\overrightarrow{AB} = (\\frac{\\sqrt{\\pi}}{2}, - \\frac{\\sqrt{\\pi}}{3}) $\n",
    "\n",
    "1. Множество всех векторов, параллельных прямой:\n",
    "\n",
    "    $\\begin{equation*}\n",
    "    \\begin{cases}\n",
    "    y_1 = \\lambda \\cdot \\frac{\\sqrt{\\pi}}{2} \\\\\n",
    "    y_2 = - \\lambda \\cdot \\frac{\\sqrt{\\pi}}{3}\n",
    "    \\end{cases}\n",
    "    \\end{equation*}\n",
    "    \\\\$\n",
    "\n",
    "2. Перпендикулярных прямой:\n",
    "\n",
    "$\\lambda \\cdot \\frac{\\sqrt{\\pi}}{2} \\cdot y_1 - \\lambda \\cdot \\frac{\\sqrt{\\pi}}{3} \\cdot y_2 = 0$"
   ]
  },
  {
   "cell_type": "markdown",
   "metadata": {},
   "source": [
    "**Определение.** Система векторов $u^1, u^2, \\ldots, u^k$ называется *линейно независимой* (ещё говорят, что эти векторы являются линейно независимыми), если ни один из этих векторов не выражается в виде линейной комбинации остальных."
   ]
  },
  {
   "cell_type": "markdown",
   "metadata": {},
   "source": [
    "### Задача 7\n",
    "Более традиционное определение линейной независимости звучит так:\n",
    "\n",
    "Система векторов $u^1, u^2, \\ldots, u^k$ называется *линейно независимой*, если никакая **нетривиальная** линейная комбинация этих векторов не равна нулевому вектору.\n",
    "\n",
    "Докажите, что это определение эквивалентно данному выше (по крайней мере, если векторов больше одного)."
   ]
  },
  {
   "cell_type": "markdown",
   "metadata": {},
   "source": [
    "#### Решение \n",
    "Перепишем оба утверждения в векторном виде:\n",
    "\n",
    "1) $\\alpha_1 u^1 + \\alpha_2 u^2 + \\ldots + \\alpha_{i-1} u^{i-1} + \\alpha_{i+1} u^{i+1} + \\ldots + \\alpha_{k}u^k \\neq u^i,$  $\\forall i \\in 1, \\ldots, k, \\forall \\alpha$, где $\\alpha_1, \\ldots, \\alpha_k$ не могут быть одновременно равны нулю \n",
    "\n",
    "\n",
    "2) $\\alpha_1 u^1 + \\alpha_2 u^2 + \\ldots +  \\ldots + \\alpha_{k}u^k \\neq 0,$ $ \\forall \\alpha$, где $\\alpha_1, \\ldots, \\alpha_k$ не могут быть одновременно равны нулю \n",
    "\n",
    "Очевидно, что второе утверждение можно получить из первого, для этого в первом утверждении необходимо перенести вектор $u^i$ в левую часть выражения. Тогда слева останется линейная комбинация всех векторов системы, а справа - нулевой вектор, о неравенстве которому мы и говорим во втором утверждении."
   ]
  },
  {
   "cell_type": "markdown",
   "metadata": {},
   "source": [
    "### Задача 8\n",
    "Являются ли следующие системы векторов линейно независимыми? Ответ обосновать.\n",
    "\n",
    "1. $(1, 2)$, $(2,1)$.\n",
    "2. $(1, 2)$, $(2, 3)$, $(3, 5)$.\n",
    "2. $(1, 2)$, $(2, 3)$, $(\\sqrt{\\pi}, \\sin e)$.\n",
    "3. $(1, 0, 1)$, $(0, 1, 0)$, $(10, 3, 10)$.\n",
    "4. $(1, 0, 0)$, $(0, 3, 0)$, $(0, 0, 2)$.\n",
    "5. $(1, 2, 3, 4, 5)$, $(2, 4, 6, 8, 11)$.\n",
    "6. $(1, 2, 3, 4, 5, 6)$, $(2, 3, 4, 5, 6, 7), (10, 10, 10, 10, 10, 10)$."
   ]
  },
  {
   "cell_type": "markdown",
   "metadata": {},
   "source": [
    "#### Решение \n",
    "1) Разделим координаты одного вектора на соответствующие координаты другого, получим: $1/2 = 0.5$, $2/1 = 2$, коэффициенты получились разными, значит, мы не сможем выразить координаты одного вектора через координаты другого - система линейно независима.\n",
    "\n",
    "2) Сложим первые два вектора друг с другом: $(1, 2) + (2, 3) = (3, 5)$, получили третий вектор, значит, эта система линейно зависима - смогли выразить один из векторов в виде линейной комбинации оставшихся.\n",
    "\n",
    "3) Числа $\\pi$ и $e$ - иррациональные, и применение монотонных функций корня и синуса не избавит их от этой участи, значит, мы гарантированно не сможем получить какую-либо линейную комбинацию из оставшихся двух векторов с целочисленными координатами, такую, что она даст нам два этих замечательных числа. Аналогично не выйдет получить из нетривиальной комбинации с их участием что-либо целочисленное, а если возьмем тривиальную, и посмотрим на первые два вектора, то обнаружим, что и они линейно независимы: $1/2 \\neq 2/3$\n",
    "\n",
    "4) $10 \\cdot (1, 0, 1) + 3 \\cdot (0, 1, 0) = (10, 3, 10)$ - линейно зависимы\n",
    "\n",
    "5) Вектора $(1, 0, 0), (0, 3, 0), (0, 0, 2)$ образуют диагональную матрицу, выразить вектора друг через друга не выйдет, так как на месте ненулевых координат одного вектора стоят нулевые координаты других\n",
    "\n",
    "6) Пятая координата все испортила - до неё шли гладко и могли бы получить коэффициент $\\lambda = 1/2$ для перегона одного вектора в другой - но $5/11$ не есть $1/2$ - линейно независимы\n",
    "\n",
    "7) $(1, 2, 3, 4, 5, 6) + (10, 10, 10, 10, 10, 10)/10 = (2, 3, 4, 5, 6, 7)$ - линейно зависимы"
   ]
  },
  {
   "cell_type": "markdown",
   "metadata": {},
   "source": [
    "### Задача 9\n",
    "Пусть система векторов $u^1, u^2, \\ldots, u^k$ является линейно независимой. Пусть вектор $v$ представляется в виде линейной комбинации векторов $u^1, \\ldots, u^k$, то есть $v = \\lambda_1 u^1+\\ldots + \\lambda_k u^k$. Докажите, что в этом случае такая линейная комбинация единственна, то есть если $v = \\mu_1 u^1 + \\ldots + \\mu_k u^k$, то $\\lambda_1=\\mu_1$, ..., $\\lambda_k = \\mu_k$.\n",
    "\n",
    "Подсказка: воспользоваться определением из задачи 7."
   ]
  },
  {
   "cell_type": "markdown",
   "metadata": {},
   "source": [
    "#### Решение \n",
    "Докажем от противного:\n",
    "\n",
    "Пусть такая линейная комбинация не единственная, т.е., $\\lambda_1 \\neq \\mu_1$, ..., $\\lambda_k \\neq \\mu_k$. Тогда рассмотрим две линеных комбинации вектора $v$:\n",
    "\n",
    "1) $v = \\mu_1 u^1 + \\ldots + \\mu_k u^k$\n",
    "2) $v = \\lambda_1 u^1+\\ldots + \\lambda_k u^k$\n",
    "\n",
    "Вычтем одно из другого, и получим:\n",
    "\n",
    "$v - v = (\\mu_1 u^1 + \\ldots + \\mu_k u^k) - (\\lambda_1 u^1+\\ldots + \\lambda_k u^k)$\n",
    "\n",
    "$0 = (\\mu_1 - \\lambda_1) u_1 + \\ldots + (\\mu_k - \\lambda_2) u_k $\n",
    "\n",
    "Справа получили линейную комбинацию векторов $u^1, u^2, \\ldots, u^k$, а слева нулевой вектор. По условию эти вектора являются линейно независимыми, а согласно определению из задачи 7, нетривиальной линейной комбинации дающей ноль у этих векторов нет. Значит, полученная нами линейная комбинация является тривиальной, т.е. $(\\mu_1 - \\lambda_1) = \\ldots = (\\mu_k - \\lambda_k) =0$, значит, $\\lambda_1=\\mu_1$, ..., $\\lambda_k = \\mu_k$"
   ]
  },
  {
   "cell_type": "markdown",
   "metadata": {},
   "source": [
    "### Задача 10\n",
    "Рассмотрим плоскость в трёхмерном пространстве, проходящую через точку $P = (1, 1, 1)$ перпендикулярно вектору $n=(1, 2, 4)$.\n",
    "\n",
    "1. Записать уравнение этой плоскости в виде $A_1 x_1 + A_2 x_2 + A_3 x_3 = D$.\n",
    "2. Найти точки пересечени этой плоскости с осями координат."
   ]
  },
  {
   "cell_type": "markdown",
   "metadata": {},
   "source": [
    "#### Решение \n",
    "1) Так как точка $P$ лежит на нашей плоскости, то на ней же лежит и некоторый вектор $\\overrightarrow{PP_0}$, такой, что точка $P_0 (x, y, z)$ принадлежит этой плоскости. Запишем координаты этого вектора:\n",
    "\n",
    "$\\overrightarrow{PP_0} = (x - 1, y - 1, z - 1)$\n",
    "\n",
    "Далее мы знаем, что скалярное произведение перпендикулярных векторов даст нам ноль, а так как вектор, перпендикулярный плоскости, перпендикулярен и любому вектору, лежущему в этой плоскости, то мы нашли двух кандидатов на нулевое произведение:\n",
    "\n",
    "$\\overrightarrow{PP_0} \\cdot n = 1(x-1)+2(y-1)+4(z-1) = 0$\n",
    "\n",
    "$x - 1 + 2y - 2 + 4z - 4 = 0$\n",
    "\n",
    "Получили искомое уравнение плоскости:\n",
    "\n",
    "$x + 2y + 4z = 7$\n",
    "\n",
    "2) Чтобы найти точки пересечения плоскости с осями координат достаточно последовательно (и попарно) подставить нули вместо $x$, $y$ и $z$ в полученное уравнение, приступим-с:\n",
    "\n",
    "Пересечение с осью $x$: $y = 0, z = 0 \\Rightarrow x = 7$, координаты точки $(7, 0, 0)$\n",
    "\n",
    "Пересечение с осью $y$: $x = 0, z = 0 \\Rightarrow y = 7/2$, координаты точки $(0, 7/2, 0)$\n",
    "\n",
    "Пересечение с осью $z$: $x = 0, y = 0 \\Rightarrow z = 7/4$, координаты точки $(0, 0, 7/4)$"
   ]
  },
  {
   "cell_type": "markdown",
   "metadata": {},
   "source": [
    "### Задание 11\n",
    "Рассмотрим плоскость в трёхмерном пространстве, проходящую через точки $P=(1, 0, 1)$, $S=(1, 1, 0)$ и $T=(0, 1, 1)$.\n",
    "\n",
    "1. Записать уравнение этой плоскости в параметрическом виде (то есть описать координаты произвольной точки $Q$, зависящей от двух параметров).\n",
    "2. Записать уравнение этой плоскости в виде $A_1 x_1 + A_2 x_3 + A_3 x_3 = D$.\n",
    "3. Найти какой-нибудь вектор, перпендикулярный этой плоскости."
   ]
  },
  {
   "cell_type": "markdown",
   "metadata": {},
   "source": [
    "#### Решение \n",
    "1) Для того, чтобы записать параметрический вид уравнения, найдем два направляющих вектора плоскости, например, $\\overrightarrow{PS}$ и $\\overrightarrow{PT}$:\n",
    "\n",
    "$\\overrightarrow{PS} = (0, 1, -1)$\n",
    "\n",
    "$\\overrightarrow{PT} = (-1, 1, 0)$\n",
    "\n",
    "А теперь запишем уравнение:\n",
    "\n",
    "$\\begin{equation*}\n",
    "\\begin{cases}\n",
    "x = 1 + 0 \\cdot u - 1 \\cdot v \\\\\n",
    "y = 0 + 1 \\cdot u + 1 \\cdot v\\\\\n",
    "z = 1 - 2 \\cdot u + 0 \\cdot v\\\\\n",
    "\\end{cases}\n",
    "\\end{equation*}\n",
    "\\\\$\n",
    "\n",
    "уберем нолики и единички\n",
    "\n",
    "$\\begin{equation*}\n",
    "\\begin{cases}\n",
    "x = 1 -  v \\\\\n",
    "y = u + v\\\\\n",
    "z = 1 -  u \\\\\n",
    "\\end{cases}\n",
    "\\end{equation*}\n",
    "\\\\$\n",
    "\n",
    "\n",
    "2) Запишем красивую систему уравнений (и даже решим её)\n",
    "\n",
    "$\\begin{equation*}\n",
    "\\begin{cases}\n",
    "A + 0 \\cdot B + C + D = 0 \\\\\n",
    "A + B + 0\\cdot C + D = 0\\\\\n",
    "0\\cdot A + B + C + D = 0\\\\\n",
    "\\end{cases}\n",
    "\\end{equation*}\n",
    "\\\\$\n",
    "    \n",
    "$\\begin{equation*}\n",
    "\\begin{cases}\n",
    "A = D-C \\\\\n",
    "D - C + B + D = 0 \\Rightarrow C = 2D + B\\\\\n",
    "B + C + D = 0\\\\\n",
    "\\end{cases}\n",
    "\\end{equation*}\n",
    "\\\\$\n",
    "\n",
    "$B +(B + 2D) + D = 0$\n",
    "\n",
    "$2B = -3D$\n",
    "\n",
    "* $B = -1.5 D$\n",
    "* $C = 2D + B = 2D - 1.5D = 0.5D$\n",
    "* $A = D - 0.5D = 0.5D$\n",
    "\n",
    "$0.5D +0.5D - 1.5D + D = 0$\n",
    "\n",
    "Искомое уравнение плоскости:\n",
    "$0.5x + 0.5y - 1.5z + 1 = 0$\n",
    "\n",
    "3) Вектор, нормальный полученной плоскости можно получить из самого уравнения этой плоскости:\n",
    "\n",
    "$n = (0.5, 0.5, -1.5)$"
   ]
  },
  {
   "cell_type": "markdown",
   "metadata": {},
   "source": [
    "### Задача 12\n",
    "С помощью `numpy` и `matplotlib.pyplot` построить график функции $y = \\sin \\exp x$ на отрезке $[-1,5]$."
   ]
  },
  {
   "cell_type": "code",
   "execution_count": 11,
   "metadata": {
    "collapsed": false
   },
   "outputs": [
    {
     "data": {
      "image/png": "[encoded data removed]",
      "text/plain": [
       "<matplotlib.figure.Figure at 0x10fd7f950>"
      ]
     },
     "metadata": {},
     "output_type": "display_data"
    }
   ],
   "source": [
    "x = np.linspace(-1, 5)\n",
    "plt.plot(x, np.sin(np.exp(x)))\n",
    "plt.title('$y = \\sin (\\exp (x))$')\n",
    "plt.show()"
   ]
  },
  {
   "cell_type": "markdown",
   "metadata": {},
   "source": [
    "### Задача 13\n",
    "Напишите каким-нибудь образом функцию, вычисляющую факториал целого числа (например, с помощью цикла или рекурсии). Сравните с помощью `%%timeit` скорость работы вашей функции с `math.factorial` для больших значений аргумента."
   ]
  },
  {
   "cell_type": "code",
   "execution_count": 32,
   "metadata": {
    "collapsed": true
   },
   "outputs": [],
   "source": [
    "import math"
   ]
  },
  {
   "cell_type": "code",
   "execution_count": 55,
   "metadata": {
    "collapsed": false
   },
   "outputs": [],
   "source": [
    "def factorial(number):\n",
    "    if isinstance(number, int):\n",
    "        return 1 if number < 1 else factorial(number - 1) * number\n",
    "    else: raise ValueError('Неверный формат числа, для отрицательных и нецелых чисел обращайтесь к Гамма-функции <3')"
   ]
  },
  {
   "cell_type": "code",
   "execution_count": 56,
   "metadata": {
    "collapsed": false
   },
   "outputs": [
    {
     "name": "stdout",
     "output_type": "stream",
     "text": [
      "The slowest run took 26.48 times longer than the fastest. This could mean that an intermediate result is being cached.\n",
      "10000 loops, best of 3: 81.7 µs per loop\n"
     ]
    }
   ],
   "source": [
    "%%timeit\n",
    "factorial(100)"
   ]
  },
  {
   "cell_type": "code",
   "execution_count": 57,
   "metadata": {
    "collapsed": false
   },
   "outputs": [
    {
     "name": "stdout",
     "output_type": "stream",
     "text": [
      "The slowest run took 186.00 times longer than the fastest. This could mean that an intermediate result is being cached.\n",
      "100000 loops, best of 3: 10.9 µs per loop\n"
     ]
    }
   ],
   "source": [
    "%%timeit\n",
    "math.factorial(100)"
   ]
  },
  {
   "cell_type": "markdown",
   "metadata": {},
   "source": [
    "Модуль math побеждает со значительным отрывом, не зря написан на C"
   ]
  }
 ],
 "metadata": {
  "kernelspec": {
   "display_name": "Python [py27]",
   "language": "python",
   "name": "Python [py27]"
  },
  "language_info": {
   "codemirror_mode": {
    "name": "ipython",
    "version": 2
   },
   "file_extension": ".py",
   "mimetype": "text/x-python",
   "name": "python",
   "nbconvert_exporter": "python",
   "pygments_lexer": "ipython2",
   "version": "2.7.12"
  },
  "toc": {
   "toc_cell": false,
   "toc_number_sections": false,
   "toc_section_display": "none",
   "toc_threshold": 6,
   "toc_window_display": false
  }
 },
 "nbformat": 4,
 "nbformat_minor": 0
}
